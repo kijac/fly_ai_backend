{
 "cells": [
  {
   "cell_type": "code",
   "execution_count": 3,
   "id": "46dc61d0",
   "metadata": {},
   "outputs": [],
   "source": [
    "from model import Admin\n",
    "from database import engine\n",
    "from datetime import datetime\n",
    "from sqlalchemy.orm import sessionmaker\n",
    "\n",
    "# 세션 생성\n",
    "SessionLocal = sessionmaker(autocommit=False, autoflush=False, bind=engine)"
   ]
  },
  {
   "cell_type": "code",
   "execution_count": 9,
   "id": "84c438bc",
   "metadata": {},
   "outputs": [
    {
     "name": "stdout",
     "output_type": "stream",
     "text": [
      "Admin 계정이 생성되었습니다!\n",
      "Admin ID: 5\n",
      "Name: master3\n",
      "Email: admin3\n"
     ]
    }
   ],
   "source": [
    "# Admin 계정 생성\n",
    "db = SessionLocal()\n",
    "\n",
    "try:\n",
    "    admin = Admin(\n",
    "        name=\"master3\",\n",
    "        email=\"admin3\", \n",
    "        password=\"qwer1234\",\n",
    "        phone_number=\"16617240\",\n",
    "        created_at=datetime.now()\n",
    "    )\n",
    "    \n",
    "    db.add(admin)\n",
    "    db.commit()\n",
    "    db.refresh(admin)\n",
    "    \n",
    "    print(f\"Admin 계정이 생성되었습니다!\")\n",
    "    print(f\"Admin ID: {admin.admin_id}\")\n",
    "    print(f\"Name: {admin.name}\")\n",
    "    print(f\"Email: {admin.email}\")\n",
    "    \n",
    "except Exception as e:\n",
    "    db.rollback()\n",
    "    print(f\"에러 발생: {e}\")\n",
    "finally:\n",
    "    db.close()"
   ]
  },
  {
   "cell_type": "code",
   "execution_count": 6,
   "id": "1c638bab",
   "metadata": {},
   "outputs": [
    {
     "name": "stdout",
     "output_type": "stream",
     "text": [
      "삭제된 Admin 계정 수: 2\n"
     ]
    }
   ],
   "source": [
    "# 생성한 Admin 계정 모두 삭제\n",
    "db = SessionLocal()\n",
    "try:\n",
    "    deleted = db.query(Admin).delete()\n",
    "    db.commit()\n",
    "    print(f\"삭제된 Admin 계정 수: {deleted}\")\n",
    "except Exception as e:\n",
    "    db.rollback()\n",
    "    print(f\"에러 발생: {e}\")\n",
    "finally:\n",
    "    db.close()"
   ]
  },
  {
   "cell_type": "code",
   "execution_count": 1,
   "id": "3c6de8a8",
   "metadata": {},
   "outputs": [],
   "source": [
    "from model import User\n",
    "from sqlalchemy.orm import Session\n",
    "\n",
    "def get_all_users(db: Session):\n",
    "    return db.query(User).all()"
   ]
  },
  {
   "cell_type": "code",
   "execution_count": 4,
   "id": "4288f3f9",
   "metadata": {},
   "outputs": [
    {
     "name": "stdout",
     "output_type": "stream",
     "text": [
      "string user@example.com 2025-08-06 00:04:45\n",
      "string user1@example.com 2025-08-06 09:24:54\n",
      "string yoonoh27@naver.com 2025-08-06 09:46:09\n",
      "string yoonoh23@naver.com 2025-08-06 09:46:25\n"
     ]
    }
   ],
   "source": [
    "from model import Admin\n",
    "from database import engine\n",
    "from datetime import datetime\n",
    "from sqlalchemy.orm import sessionmaker\n",
    "\n",
    "# 세션 생성\n",
    "SessionLocal = sessionmaker(autocommit=False, autoflush=False, bind=engine)\n",
    "\n",
    "\n",
    "db = SessionLocal()\n",
    "\n",
    "users = get_all_users(db)\n",
    "for user in users:\n",
    "    print(user.name, user.email, user.created_at)"
   ]
  },
  {
   "cell_type": "code",
   "execution_count": null,
   "id": "b7d9bfcf",
   "metadata": {},
   "outputs": [],
   "source": [
    "# @router.post(\"/donation\")\n",
    "# async def register_toy(\n",
    "#     toy_type: str = Form(...),\n",
    "#     is_donatable: str = Form(...),  # ENUM 문자열로 받음\n",
    "#     description: str = Form(\"\"),\n",
    "#     image: UploadFile = File(...),\n",
    "#     db: Session = Depends(get_db),\n",
    "#     current_user: User = Depends(get_current_user)\n",
    "# ):\n",
    "    \n",
    "#     # 필수값 체크\n",
    "#     if not is_donatable or not image:\n",
    "#         raise HTTPException(status_code=400, detail=\"필수 항목이 누락되었습니다.\")\n",
    "\n",
    "#     # ENUM 값 변환 예외처리\n",
    "#     try:\n",
    "#         donation_status = DonationStatus(is_donatable)\n",
    "#     except ValueError:\n",
    "#         raise HTTPException(status_code=400, detail=\"is_donatable 값이 올바르지 않습니다.\")\n",
    "\n",
    "#     # 이미지 파일 확장자 체크 (예시)\n",
    "#     if not image.filename.lower().endswith(('.png', '.jpg', '.jpeg')):\n",
    "#         raise HTTPException(status_code=400, detail=\"이미지 파일만 업로드 가능합니다.\")\n",
    "\n",
    "#     # 이미지 저장\n",
    "#     save_dir = \"toypics\"\n",
    "#     os.makedirs(save_dir, exist_ok=True)\n",
    "#     image_path = os.path.join(save_dir, image.filename)\n",
    "#     with open(image_path, \"wb\") as buffer:\n",
    "#         shutil.copyfileobj(image.file, buffer)\n",
    "\n",
    "#     # ENUM 값 변환\n",
    "#     try:\n",
    "#         donation_status = DonationStatus(is_donatable)\n",
    "#     except ValueError:\n",
    "#         raise HTTPException(status_code=400, detail=\"is_donatable 값이 올바르지 않습니다.\")\n",
    "\n",
    "#     # toy_stock 테이블에 저장할 데이터 준비\n",
    "#     toy_data = {\n",
    "#         \"donor_id\": current_user.user_id,           # 로그인 사용자 정보\n",
    "#         \"toy_type\": toy_type,\n",
    "#         \"is_donatable\": donation_status,\n",
    "#         \"description\": description,\n",
    "#         \"image_url\": image_path,\n",
    "#         \"donor_status\": DonorStatus.PENDING,        # 기본값\n",
    "#         \"created_at\": datetime.now(),\n",
    "#         \"updated_at\": datetime.now(),\n",
    "#         # toy_id는 자동생성\n",
    "#     }\n",
    "#     toy = toy_stock_crud.create_toy(db, toy_data)\n",
    "#     return {\n",
    "#         \"success\": True,\n",
    "#         \"message\": \"기부물품 등록이 완료되었습니다.\",\n",
    "#     }"
   ]
  },
  {
   "cell_type": "markdown",
   "id": "4364264c",
   "metadata": {},
   "source": [
    "const formData = new FormData();\n",
    "formData.append(\"toy_type\", \"피규어\");\n",
    "formData.append(\"is_donatable\", \"recyclable\");\n",
    "formData.append(\"description\", \"플라스틱 장난감\");\n",
    "formData.append(\"image\", fileInput.files[0]); // 이미지 파일\n",
    "\n",
    "fetch(\"/api/toy_stock/donation\", {\n",
    "  method: \"POST\",\n",
    "  body: formData,\n",
    "  credentials: \"include\" // 인증 필요시\n",
    "})\n",
    "  .then(res => res.json())\n",
    "  .then(data => {\n",
    "    // 성공 여부: data.success\n",
    "    // 메시지: data.message\n",
    "  });"
   ]
  },
  {
   "cell_type": "markdown",
   "id": "63b578a7",
   "metadata": {},
   "source": []
  }
 ],
 "metadata": {
  "kernelspec": {
   "display_name": "backendprac",
   "language": "python",
   "name": "python3"
  },
  "language_info": {
   "codemirror_mode": {
    "name": "ipython",
    "version": 3
   },
   "file_extension": ".py",
   "mimetype": "text/x-python",
   "name": "python",
   "nbconvert_exporter": "python",
   "pygments_lexer": "ipython3",
   "version": "3.12.11"
  }
 },
 "nbformat": 4,
 "nbformat_minor": 5
}
