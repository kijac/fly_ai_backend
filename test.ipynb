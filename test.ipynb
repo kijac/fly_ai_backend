{
 "cells": [
  {
   "cell_type": "code",
   "execution_count": 3,
   "id": "46dc61d0",
   "metadata": {},
   "outputs": [],
   "source": [
    "from model import Admin\n",
    "from database import engine\n",
    "from datetime import datetime\n",
    "from sqlalchemy.orm import sessionmaker\n",
    "\n",
    "# 세션 생성\n",
    "SessionLocal = sessionmaker(autocommit=False, autoflush=False, bind=engine)"
   ]
  },
  {
   "cell_type": "code",
   "execution_count": 9,
   "id": "84c438bc",
   "metadata": {},
   "outputs": [
    {
     "name": "stdout",
     "output_type": "stream",
     "text": [
      "Admin 계정이 생성되었습니다!\n",
      "Admin ID: 5\n",
      "Name: master3\n",
      "Email: admin3\n"
     ]
    }
   ],
   "source": [
    "# Admin 계정 생성\n",
    "db = SessionLocal()\n",
    "\n",
    "try:\n",
    "    admin = Admin(\n",
    "        name=\"master3\",\n",
    "        email=\"admin3\", \n",
    "        password=\"qwer1234\",\n",
    "        phone_number=\"16617240\",\n",
    "        created_at=datetime.now()\n",
    "    )\n",
    "    \n",
    "    db.add(admin)\n",
    "    db.commit()\n",
    "    db.refresh(admin)\n",
    "    \n",
    "    print(f\"Admin 계정이 생성되었습니다!\")\n",
    "    print(f\"Admin ID: {admin.admin_id}\")\n",
    "    print(f\"Name: {admin.name}\")\n",
    "    print(f\"Email: {admin.email}\")\n",
    "    \n",
    "except Exception as e:\n",
    "    db.rollback()\n",
    "    print(f\"에러 발생: {e}\")\n",
    "finally:\n",
    "    db.close()"
   ]
  },
  {
   "cell_type": "code",
   "execution_count": 6,
   "id": "1c638bab",
   "metadata": {},
   "outputs": [
    {
     "name": "stdout",
     "output_type": "stream",
     "text": [
      "삭제된 Admin 계정 수: 2\n"
     ]
    }
   ],
   "source": [
    "# 생성한 Admin 계정 모두 삭제\n",
    "db = SessionLocal()\n",
    "try:\n",
    "    deleted = db.query(Admin).delete()\n",
    "    db.commit()\n",
    "    print(f\"삭제된 Admin 계정 수: {deleted}\")\n",
    "except Exception as e:\n",
    "    db.rollback()\n",
    "    print(f\"에러 발생: {e}\")\n",
    "finally:\n",
    "    db.close()"
   ]
  },
  {
   "cell_type": "code",
   "execution_count": 1,
   "id": "3c6de8a8",
   "metadata": {},
   "outputs": [],
   "source": [
    "from model import User\n",
    "from sqlalchemy.orm import Session\n",
    "\n",
    "def get_all_users(db: Session):\n",
    "    return db.query(User).all()"
   ]
  },
  {
   "cell_type": "code",
   "execution_count": 4,
   "id": "4288f3f9",
   "metadata": {},
   "outputs": [
    {
     "name": "stdout",
     "output_type": "stream",
     "text": [
      "string user@example.com 2025-08-06 00:04:45\n",
      "string user1@example.com 2025-08-06 09:24:54\n",
      "string yoonoh27@naver.com 2025-08-06 09:46:09\n",
      "string yoonoh23@naver.com 2025-08-06 09:46:25\n"
     ]
    }
   ],
   "source": [
    "from model import Admin\n",
    "from database import engine\n",
    "from datetime import datetime\n",
    "from sqlalchemy.orm import sessionmaker\n",
    "\n",
    "# 세션 생성\n",
    "SessionLocal = sessionmaker(autocommit=False, autoflush=False, bind=engine)\n",
    "\n",
    "\n",
    "db = SessionLocal()\n",
    "\n",
    "users = get_all_users(db)\n",
    "for user in users:\n",
    "    print(user.name, user.email, user.created_at)"
   ]
  }
 ],
 "metadata": {
  "kernelspec": {
   "display_name": "backendprac",
   "language": "python",
   "name": "python3"
  },
  "language_info": {
   "codemirror_mode": {
    "name": "ipython",
    "version": 3
   },
   "file_extension": ".py",
   "mimetype": "text/x-python",
   "name": "python",
   "nbconvert_exporter": "python",
   "pygments_lexer": "ipython3",
   "version": "3.12.11"
  }
 },
 "nbformat": 4,
 "nbformat_minor": 5
}
