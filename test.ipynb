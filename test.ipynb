{
 "cells": [
  {
   "cell_type": "code",
   "execution_count": 3,
   "id": "46dc61d0",
   "metadata": {},
   "outputs": [],
   "source": [
    "from model import Admin\n",
    "from database import engine\n",
    "from datetime import datetime\n",
    "from sqlalchemy.orm import sessionmaker\n",
    "\n",
    "# 세션 생성\n",
    "SessionLocal = sessionmaker(autocommit=False, autoflush=False, bind=engine)"
   ]
  },
  {
   "cell_type": "code",
   "execution_count": 9,
   "id": "84c438bc",
   "metadata": {},
   "outputs": [
    {
     "name": "stdout",
     "output_type": "stream",
     "text": [
      "Admin 계정이 생성되었습니다!\n",
      "Admin ID: 5\n",
      "Name: master3\n",
      "Email: admin3\n"
     ]
    }
   ],
   "source": [
    "# Admin 계정 생성\n",
    "db = SessionLocal()\n",
    "\n",
    "try:\n",
    "    admin = Admin(\n",
    "        name=\"master3\",\n",
    "        email=\"admin3\", \n",
    "        password=\"qwer1234\",\n",
    "        phone_number=\"16617240\",\n",
    "        created_at=datetime.now()\n",
    "    )\n",
    "    \n",
    "    db.add(admin)\n",
    "    db.commit()\n",
    "    db.refresh(admin)\n",
    "    \n",
    "    print(f\"Admin 계정이 생성되었습니다!\")\n",
    "    print(f\"Admin ID: {admin.admin_id}\")\n",
    "    print(f\"Name: {admin.name}\")\n",
    "    print(f\"Email: {admin.email}\")\n",
    "    \n",
    "except Exception as e:\n",
    "    db.rollback()\n",
    "    print(f\"에러 발생: {e}\")\n",
    "finally:\n",
    "    db.close()"
   ]
  },
  {
   "cell_type": "code",
   "execution_count": 6,
   "id": "1c638bab",
   "metadata": {},
   "outputs": [
    {
     "name": "stdout",
     "output_type": "stream",
     "text": [
      "삭제된 Admin 계정 수: 2\n"
     ]
    }
   ],
   "source": [
    "# 생성한 Admin 계정 모두 삭제\n",
    "db = SessionLocal()\n",
    "try:\n",
    "    deleted = db.query(Admin).delete()\n",
    "    db.commit()\n",
    "    print(f\"삭제된 Admin 계정 수: {deleted}\")\n",
    "except Exception as e:\n",
    "    db.rollback()\n",
    "    print(f\"에러 발생: {e}\")\n",
    "finally:\n",
    "    db.close()"
   ]
  },
  {
   "cell_type": "code",
   "execution_count": 1,
   "id": "3c6de8a8",
   "metadata": {},
   "outputs": [],
   "source": [
    "from model import User\n",
    "from sqlalchemy.orm import Session\n",
    "\n",
    "def get_all_users(db: Session):\n",
    "    return db.query(User).all()"
   ]
  },
  {
   "cell_type": "code",
   "execution_count": 4,
   "id": "4288f3f9",
   "metadata": {},
   "outputs": [
    {
     "name": "stdout",
     "output_type": "stream",
     "text": [
      "string user@example.com 2025-08-06 00:04:45\n",
      "string user1@example.com 2025-08-06 09:24:54\n",
      "string yoonoh27@naver.com 2025-08-06 09:46:09\n",
      "string yoonoh23@naver.com 2025-08-06 09:46:25\n"
     ]
    }
   ],
   "source": [
    "from model import Admin\n",
    "from database import engine\n",
    "from datetime import datetime\n",
    "from sqlalchemy.orm import sessionmaker\n",
    "\n",
    "# 세션 생성\n",
    "SessionLocal = sessionmaker(autocommit=False, autoflush=False, bind=engine)\n",
    "\n",
    "\n",
    "db = SessionLocal()\n",
    "\n",
    "users = get_all_users(db)\n",
    "for user in users:\n",
    "    print(user.name, user.email, user.created_at)"
   ]
  },
  {
   "cell_type": "code",
   "execution_count": null,
   "id": "b7d9bfcf",
   "metadata": {},
   "outputs": [],
   "source": [
    "# @router.post(\"/donation\")\n",
    "# async def register_toy(\n",
    "#     toy_type: str = Form(...),\n",
    "#     is_donatable: str = Form(...),  # ENUM 문자열로 받음\n",
    "#     description: str = Form(\"\"),\n",
    "#     image: UploadFile = File(...),\n",
    "#     db: Session = Depends(get_db),\n",
    "#     current_user: User = Depends(get_current_user)\n",
    "# ):\n",
    "    \n",
    "#     # 필수값 체크\n",
    "#     if not is_donatable or not image:\n",
    "#         raise HTTPException(status_code=400, detail=\"필수 항목이 누락되었습니다.\")\n",
    "\n",
    "#     # ENUM 값 변환 예외처리\n",
    "#     try:\n",
    "#         donation_status = DonationStatus(is_donatable)\n",
    "#     except ValueError:\n",
    "#         raise HTTPException(status_code=400, detail=\"is_donatable 값이 올바르지 않습니다.\")\n",
    "\n",
    "#     # 이미지 파일 확장자 체크 (예시)\n",
    "#     if not image.filename.lower().endswith(('.png', '.jpg', '.jpeg')):\n",
    "#         raise HTTPException(status_code=400, detail=\"이미지 파일만 업로드 가능합니다.\")\n",
    "\n",
    "#     # 이미지 저장\n",
    "#     save_dir = \"toypics\"\n",
    "#     os.makedirs(save_dir, exist_ok=True)\n",
    "#     image_path = os.path.join(save_dir, image.filename)\n",
    "#     with open(image_path, \"wb\") as buffer:\n",
    "#         shutil.copyfileobj(image.file, buffer)\n",
    "\n",
    "#     # ENUM 값 변환\n",
    "#     try:\n",
    "#         donation_status = DonationStatus(is_donatable)\n",
    "#     except ValueError:\n",
    "#         raise HTTPException(status_code=400, detail=\"is_donatable 값이 올바르지 않습니다.\")\n",
    "\n",
    "#     # toy_stock 테이블에 저장할 데이터 준비\n",
    "#     toy_data = {\n",
    "#         \"donor_id\": current_user.user_id,           # 로그인 사용자 정보\n",
    "#         \"toy_type\": toy_type,\n",
    "#         \"is_donatable\": donation_status,\n",
    "#         \"description\": description,\n",
    "#         \"image_url\": image_path,\n",
    "#         \"donor_status\": DonorStatus.PENDING,        # 기본값\n",
    "#         \"created_at\": datetime.now(),\n",
    "#         \"updated_at\": datetime.now(),\n",
    "#         # toy_id는 자동생성\n",
    "#     }\n",
    "#     toy = toy_stock_crud.create_toy(db, toy_data)\n",
    "#     return {\n",
    "#         \"success\": True,\n",
    "#         \"message\": \"기부물품 등록이 완료되었습니다.\",\n",
    "#     }"
   ]
  },
  {
   "cell_type": "markdown",
   "id": "4364264c",
   "metadata": {},
   "source": [
    "const formData = new FormData();\n",
    "formData.append(\"toy_type\", \"피규어\");\n",
    "formData.append(\"is_donatable\", \"recyclable\");\n",
    "formData.append(\"description\", \"플라스틱 장난감\");\n",
    "formData.append(\"image\", fileInput.files[0]); // 이미지 파일\n",
    "\n",
    "fetch(\"/api/toy_stock/donation\", {\n",
    "  method: \"POST\",\n",
    "  body: formData,\n",
    "  credentials: \"include\" // 인증 필요시\n",
    "})\n",
    "  .then(res => res.json())\n",
    "  .then(data => {\n",
    "    // 성공 여부: data.success\n",
    "    // 메시지: data.message\n",
    "  });"
   ]
  },
  {
   "cell_type": "markdown",
   "id": "63b578a7",
   "metadata": {},
   "source": []
  },
  {
   "cell_type": "code",
   "execution_count": 1,
   "id": "22344f62",
   "metadata": {},
   "outputs": [
    {
     "name": "stdout",
     "output_type": "stream",
     "text": [
      "삭제된 toy_stock 데이터 수: 10\n"
     ]
    }
   ],
   "source": [
    "from model import Toy_Stock\n",
    "from database import engine\n",
    "from sqlalchemy.orm import sessionmaker\n",
    "\n",
    "SessionLocal = sessionmaker(autocommit=False, autoflush=False, bind=engine)\n",
    "db = SessionLocal()\n",
    "try:\n",
    "    deleted = db.query(Toy_Stock).delete()\n",
    "    db.commit()\n",
    "    print(f\"삭제된 toy_stock 데이터 수: {deleted}\")\n",
    "except Exception as e:\n",
    "    db.rollback()\n",
    "    print(f\"에러 발생: {e}\")\n",
    "finally:\n",
    "    db.close()"
   ]
  },
  {
   "cell_type": "code",
   "execution_count": 1,
   "id": "035eaed8",
   "metadata": {},
   "outputs": [],
   "source": [
    "# main.py나 다른 파일에서\n",
    "from database import SessionLocal\n",
    "from model import User\n",
    "\n",
    "db = SessionLocal()\n",
    "db.query(User).delete()\n",
    "db.commit()\n",
    "db.close()"
   ]
  },
  {
   "cell_type": "code",
   "execution_count": 2,
   "id": "57bc5792",
   "metadata": {},
   "outputs": [
    {
     "name": "stdout",
     "output_type": "stream",
     "text": [
      "삭제 오류: (pymysql.err.IntegrityError) (1451, 'Cannot delete or update a parent row: a foreign key constraint fails (`myapi_db`.`donor_requests_item`, CONSTRAINT `fk_donor_requests_item_toy_stock_id_toy_stock` FOREIGN KEY (`toy_stock_id`) REFERENCES `toy_stock` (`toy_id`))')\n",
      "[SQL: DELETE FROM toy_stock]\n",
      "(Background on this error at: https://sqlalche.me/e/20/gkpj)\n"
     ]
    },
    {
     "data": {
      "text/plain": [
       "0"
      ]
     },
     "execution_count": 2,
     "metadata": {},
     "output_type": "execute_result"
    }
   ],
   "source": [
    "# 1. 파일 생성: reset_toy_stock.py\n",
    "from sqlalchemy.orm import Session\n",
    "from model import Toy_Stock\n",
    "from database import get_db\n",
    "\n",
    "def delete_all_toy_stock_orm():\n",
    "    \"\"\"ORM으로 모든 데이터 삭제\"\"\"\n",
    "    db = next(get_db())\n",
    "    \n",
    "    try:\n",
    "        # 모든 데이터 삭제\n",
    "        deleted_count = db.query(Toy_Stock).delete(synchronize_session=False)\n",
    "        db.commit()\n",
    "        print(f\"삭제 완료: {deleted_count}개 데이터 삭제됨\")\n",
    "        return deleted_count\n",
    "        \n",
    "    except Exception as e:\n",
    "        db.rollback()\n",
    "        print(f\"삭제 오류: {e}\")\n",
    "        return 0\n",
    "    finally:\n",
    "        db.close()\n",
    "\n",
    "# 실행\n",
    "delete_all_toy_stock_orm()"
   ]
  }
 ],
 "metadata": {
  "kernelspec": {
   "display_name": "backendprac",
   "language": "python",
   "name": "python3"
  },
  "language_info": {
   "codemirror_mode": {
    "name": "ipython",
    "version": 3
   },
   "file_extension": ".py",
   "mimetype": "text/x-python",
   "name": "python",
   "nbconvert_exporter": "python",
   "pygments_lexer": "ipython3",
   "version": "3.12.11"
  }
 },
 "nbformat": 4,
 "nbformat_minor": 5
}
